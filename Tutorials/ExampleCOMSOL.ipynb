{
 "cells": [
  {
   "cell_type": "markdown",
   "metadata": {},
   "source": [
    "The code below is based on the tutorial - the structure should perhaps get encapsulated better later..."
   ]
  },
  {
   "cell_type": "code",
   "execution_count": 1,
   "metadata": {},
   "outputs": [],
   "source": [
    "import klayout.db as db\n",
    "import os\n",
    "import numpy as np\n",
    "from ClassLib import *\n",
    "\n",
    "layout = db.Layout()\n",
    "layout.dbu = 0.001 #This means that all numbers will be by reference in nm\n",
    "if( layout.has_cell( \"testScript\") ):\n",
    "    pass\n",
    "else:\n",
    "    cell = layout.create_cell( \"testScript\" )\n",
    "layer_info_photo = db.LayerInfo(10,0)\n",
    "layer_photo = layout.layer( layer_info_photo )"
   ]
  },
  {
   "cell_type": "code",
   "execution_count": 2,
   "metadata": {},
   "outputs": [
    {
     "data": {
      "text/plain": [
       "<klayout.dbcore.Shape at 0x17dfe24b8c8>"
      ]
     },
     "execution_count": 2,
     "metadata": {},
     "output_type": "execute_result"
    }
   ],
   "source": [
    "box = db.DBox(0, 0, 120, 250)\n",
    "cell.shapes( layer_photo ).insert( box ) "
   ]
  },
  {
   "cell_type": "code",
   "execution_count": 3,
   "metadata": {},
   "outputs": [],
   "source": [
    "class CHIP:\n",
    "    dx = 5.0e6 #7.75e6 #6.0e6## #length of the chip?\n",
    "    dy = 2.1e6 #width of the chip? 7X2 mm\n",
    "    L1 = 2.5e6 #what's this?\n",
    "    gap = 150.e3 # the between CPW and ground?\n",
    "    width = 260.e3 # of CPW?\n",
    "    b = 2*gap + width\n",
    "    origin = db.DPoint( 0,0 )\n",
    "    box = db.DBox( origin, origin + db.DPoint( dx,dy ) )\n",
    "    # only 4 connections programmed by now  ###what does the connection mean?\n",
    "    connections = [box.p1 + db.DPoint( L1 + b/2,0 ), box.p1 + db.DPoint( dx - (L1+b/2),0 ), box.p2 - db.DPoint( L1 + b/2,0 ),  box.p1 + db.DPoint( L1 + b/2, dy )]"
   ]
  },
  {
   "cell_type": "code",
   "execution_count": 4,
   "metadata": {},
   "outputs": [],
   "source": [
    "layer_info_photo = db.LayerInfo(10,0)\n",
    "layer_info_el = db.LayerInfo(11,0)\n",
    "layer_crosses = db.LayerInfo(2, 0)\n",
    "layer_text = db.LayerInfo(3, 0)\n",
    "layer_negative = db.LayerInfo(4, 0)\n",
    "layer_photo = layout.layer( layer_info_photo )\n",
    "layer_el = layout.layer( layer_info_el )\n",
    "layer_cross = layout.layer(layer_crosses)\n",
    "layer_txt = layout.layer(layer_text)\n",
    "layer_neg = layout.layer(layer_negative)"
   ]
  },
  {
   "cell_type": "code",
   "execution_count": 5,
   "metadata": {},
   "outputs": [
    {
     "data": {
      "text/plain": [
       "<klayout.dbcore.Shape at 0x17dfe26a348>"
      ]
     },
     "execution_count": 5,
     "metadata": {},
     "output_type": "execute_result"
    }
   ],
   "source": [
    "N_repetitions = 1\n",
    "Origin_list = [(0, n*(CHIP.dy))for n in range(N_repetitions)]\n",
    "origins = Origin_list[0]\n",
    "origin = db.DPoint( origins[0], origins[1] )\n",
    "Origin_V = Vector( origins[0], origins[1] )\n",
    "cell.shapes( layer_photo ).insert( db.Box( origin, Point( origins[0] + CHIP.dx, origins[1] + CHIP.dy ) ) )"
   ]
  },
  {
   "cell_type": "code",
   "execution_count": 6,
   "metadata": {},
   "outputs": [],
   "source": [
    "# Draw crosses for reference\n",
    "\n",
    "cross_small = 50e3\n",
    "cross_small_neg = 100e3\n",
    "cross_large = 500e3\n",
    "cross_large_neg = 550e3\n",
    "\n",
    "cross_ll = Cross( Origin_V + Vector(-(cross_large)/2, -(cross_large)/2), cross_small, cross_large )\n",
    "cross_ll.place(cell, layer_cross)\n",
    "cross_lr = Cross( Origin_V + Vector(CHIP.dx, 0)+ Vector(-(cross_large)/2, -(cross_large)/2 ), cross_small, cross_large )\n",
    "cross_lr.place(cell, layer_cross)\n",
    "cross_ul = Cross( Origin_V + Vector(0, CHIP.dy)+ Vector(-(cross_large)/2, -(cross_large)/2), cross_small, cross_large )\n",
    "cross_ul.place(cell, layer_cross)\n",
    "cross_lr = Cross( Origin_V + Vector(CHIP.dx, CHIP.dy)+ Vector(-(cross_large)/2, -(cross_large)/2 ), cross_small, cross_large )\n",
    "cross_lr.place(cell, layer_cross)\n",
    "\n",
    "#Negative crosses\n",
    "cross_ll = Cross( Origin_V + Vector(-(cross_large_neg)/2, -(cross_large_neg)/2), cross_small_neg, cross_large_neg)\n",
    "cross_ll.place(cell, layer_neg)\n",
    "cross_lr = Cross( Origin_V + Vector(CHIP.dx, 0)+ Vector(-(cross_large_neg)/2, -(cross_large_neg)/2 ), cross_small_neg, cross_large_neg  )\n",
    "cross_lr.place(cell, layer_neg)\n",
    "cross_ul = Cross( Origin_V + Vector(0, CHIP.dy)+ Vector(-(cross_large_neg)/2, -(cross_large_neg)/2), cross_small_neg, cross_large_neg  )\n",
    "cross_ul.place(cell, layer_neg)\n",
    "cross_lr = Cross( Origin_V + Vector(CHIP.dx, CHIP.dy)+ Vector(-(cross_large_neg)/2, -(cross_large_neg)/2 ), cross_small_neg, cross_large_neg  )\n",
    "cross_lr.place(cell, layer_neg)"
   ]
  },
  {
   "cell_type": "markdown",
   "metadata": {},
   "source": [
    "## Main layer"
   ]
  },
  {
   "cell_type": "markdown",
   "metadata": {},
   "source": [
    "Comment out \"%%script false\" to execute the cells.\n",
    "\n",
    "### Gap Capacitors"
   ]
  },
  {
   "cell_type": "code",
   "execution_count": 7,
   "metadata": {},
   "outputs": [],
   "source": [
    "#%%script false\n",
    "\n",
    "# Dictionary of Chip Parameters\n",
    "CPW_Magic_Ratio = 150/278.0  #Gap to Width\n",
    "cpms={\n",
    "    \"Launch Pad Width\"  : 260e3,\n",
    "    \"Launch Pad Gap\"    : 150e3,\n",
    "    \"Launch Pad Length\" : 500e3,\n",
    "    \n",
    "    \"Launch to Capacitor\"     : 750e3,\n",
    "\n",
    "    \"Capacitor Pre-Gap\" : 84e3,\n",
    "    \"Capacitor Gap\"     : 10e3,\n",
    "    \n",
    "    \"Resonator Track Width\" : 10e3,\n",
    "    \"Resonator Track Gap\"   : 6.6e3,\n",
    "    \"Resonator Meander Radius\"    : 105e3,\n",
    "    \"Resonator Meander Max Width\" : 1.07e6\n",
    "}\n",
    "\n",
    "#Left contact pad\n",
    "pad_L = CPW( cpms[\"Launch Pad Width\"]*1.2, cpms[\"Launch Pad Gap\"]*1.2,\n",
    "             origin + DPoint( 0, CHIP.dy*0.5 ),\n",
    "             origin + DPoint( cpms[\"Launch Pad Length\"], CHIP.dy*0.5 ) )\n",
    "pad_L.place( cell, layer_photo )\n",
    "\n",
    "\n",
    "#Left Capacitor\n",
    "#Padding\n",
    "cap_L_pad = CPW( cpms[\"Resonator Track Width\"], cpms[\"Resonator Track Gap\"],\n",
    "                 pad_L.end + DPoint(cpms[\"Launch to Capacitor\"],0),\n",
    "                 pad_L.end + DPoint(cpms[\"Launch to Capacitor\"]+cpms[\"Capacitor Pre-Gap\"],0) )\n",
    "cap_L_pad.place( cell, layer_photo )\n",
    "#Actual gap\n",
    "cap_L = Capacitor_GapCPW(cap_L_pad.end, cap_L_pad, cpms[\"Capacitor Gap\"], trans_in = klayout.db.Trans(3, False, 0, 0))\n",
    "cap_L.place( cell, layer_photo )\n",
    "\n",
    "#Connect Left contact pad to Capacitor\n",
    "CPW2CPW( pad_L, cap_L_pad, pad_L.end, cap_L_pad.start ).place( cell, layer_photo )\n",
    "\n",
    "\n",
    "#Resonator\n",
    "\n",
    "#Meander resonator\n",
    "res_mean = CPW_Meander_Resonator(cap_L.cpw_params, cap_L.end, 8.13e6,\n",
    "                                 cpms[\"Resonator Meander Radius\"], cpms[\"Resonator Meander Max Width\"] )\n",
    "res_mean.place(cell, layer_photo)\n",
    "\n",
    "\n",
    "#Right Capacitor\n",
    "#Actual gap\n",
    "cap_R = Capacitor_GapCPW(res_mean.end, res_mean, cpms[\"Capacitor Gap\"], trans_in = klayout.db.Trans(3, False, 0, 0))\n",
    "cap_R.place( cell, layer_photo )\n",
    "#Padding\n",
    "cap_R_pad = CPW( cpms[\"Resonator Track Width\"], cpms[\"Resonator Track Gap\"],\n",
    "                 cap_R.end,\n",
    "                 cap_R.end + DPoint(cpms[\"Capacitor Pre-Gap\"],0) )\n",
    "cap_R_pad.place( cell, layer_photo )\n",
    "\n",
    "\n",
    "#Right contact pad\n",
    "pad_R = CPW( cpms[\"Launch Pad Width\"]*1.2, cpms[\"Launch Pad Gap\"]*1.2,\n",
    "             cap_R_pad.end + DPoint(cpms[\"Launch to Capacitor\"],0),\n",
    "             DPoint(CHIP.dx, CHIP.dy/2) )\n",
    "pad_R.place( cell, layer_photo )\n",
    "#Connect Capacitor to Right contact pad\n",
    "CPW2CPW( cap_R_pad, pad_R, cap_R_pad.end, pad_R.start ).place( cell, layer_photo )\n",
    "\n",
    "layout.write(r'Example2_eric.gds')"
   ]
  },
  {
   "cell_type": "markdown",
   "metadata": {},
   "source": [
    "### Fingered capacitors..."
   ]
  },
  {
   "cell_type": "code",
   "execution_count": 8,
   "metadata": {},
   "outputs": [
    {
     "name": "stdout",
     "output_type": "stream",
     "text": [
      "Couldn't find program: 'false'\n"
     ]
    }
   ],
   "source": [
    "%%script false\n",
    "\n",
    "# Dictionary of Chip Parameters\n",
    "CPW_Magic_Ratio = 150/278.0  #Gap to Width\n",
    "cpms={\n",
    "    \"Launch Pad Width\"  : 260e3,\n",
    "    \"Launch Pad Gap\"    : 150e3,\n",
    "    \"Launch Pad Length\" : 500e3,\n",
    "    \n",
    "    \"Launch to Capacitor\"     : 750e3,\n",
    "\n",
    "    \"Capacitor Finger Number\" : 4,\n",
    "    \"Capacitor Finger Length\" : 100e3,\n",
    "    \"Capacitor Finger Width\"  : 3.3e3,\n",
    "    \"Capacitor Finger Space\"  : 3.3e3,   #Spacing between fingers\n",
    "    \n",
    "    \"Capacitor to Resonator\"  : 100e3,\n",
    "    \n",
    "    \"Resonator Initial Pad\" : 1e3,\n",
    "    \"Resonator Track Width\" : 10e3,\n",
    "    \"Resonator Track Gap\"   : 6.6e3,\n",
    "    \"Resonator Meander Radius\"    : 105e3,\n",
    "    \"Resonator Meander Max Width\" : 1.07e6\n",
    "}\n",
    "\n",
    "#Left contact pad\n",
    "pad_L = CPW( cpms[\"Launch Pad Width\"]*1.2, cpms[\"Launch Pad Gap\"]*1.2,\n",
    "             origin + DPoint( 0, CHIP.dy*0.5 ),\n",
    "             origin + DPoint( cpms[\"Launch Pad Length\"], CHIP.dy*0.5 ) )\n",
    "pad_L.place( cell, layer_photo )\n",
    "\n",
    "#Left Capacitor\n",
    "#Assuming that capacitor has width equal to the CPW line - thus, the gaps around capacitor and connecting lines are the same\n",
    "cap_width = cpms[\"Capacitor Finger Number\"]*2*(cpms[\"Capacitor Finger Width\"]+cpms[\"Capacitor Finger Space\"])-cpms[\"Capacitor Finger Space\"]\n",
    "cap_side_gap = cap_width * CPW_Magic_Ratio\n",
    "cap_padding = 5e3\n",
    "cap_L = Capacitor_Interdigitated(pad_L.end + DPoint(cpms[\"Launch to Capacitor\"],0),\n",
    "                                 cpms[\"Capacitor Finger Width\"],\n",
    "                                 cpms[\"Capacitor Finger Space\"],\n",
    "                                 cpms[\"Capacitor Finger Length\"],\n",
    "                                 cpms[\"Capacitor Finger Space\"], #Capacitor gap\n",
    "                                 cap_padding,\n",
    "                                 cap_side_gap,\n",
    "                                 cpms[\"Capacitor Finger Number\"],\n",
    "                                 'same_N_right',\n",
    "                                 trans_in = klayout.db.Trans(3, False, 0, 0))\n",
    "cap_L.place( cell, layer_photo )\n",
    "\n",
    "#Connect Left contact pad to Capacitor\n",
    "CPW2CPW( pad_L, cap_L.cpw_params, pad_L.end, cap_L.start ).place( cell, layer_photo )\n",
    "\n",
    "#Resonator\n",
    "\n",
    "#Starting junction\n",
    "res_start = CPW( cpms[\"Resonator Track Width\"], cpms[\"Resonator Track Gap\"],\n",
    "                 cap_L.end + DPoint(cpms[\"Capacitor to Resonator\"],0),\n",
    "                 cap_L.end + DPoint(cpms[\"Capacitor to Resonator\"]+cpms[\"Resonator Initial Pad\"],0), CHIP.dy*0.5 )\n",
    "res_start.place( cell, layer_photo )\n",
    "#Connect Left Capacitor to start of Resonator\n",
    "CPW2CPW( cap_L.cpw_params, res_start, cap_L.end, res_start.start ).place( cell, layer_photo )\n",
    "\n",
    "#Meander resonator\n",
    "res_mean = CPW_Meander_Resonator(res_start, res_start.end, 8.13e6,\n",
    "                                 cpms[\"Resonator Meander Radius\"], cpms[\"Resonator Meander Max Width\"] )\n",
    "res_mean.place(cell, layer_photo)\n",
    "\n",
    "#Padding in end\n",
    "res_end = CPW( cpms[\"Resonator Track Width\"], cpms[\"Resonator Track Gap\"],\n",
    "                 res_mean.end,\n",
    "                 res_mean.end + DPoint(cpms[\"Resonator Initial Pad\"],0) )\n",
    "res_end.place( cell, layer_photo )\n",
    "\n",
    "#Right Capacitor\n",
    "cap_R = Capacitor_Interdigitated(res_end.end + DPoint(cpms[\"Capacitor to Resonator\"],0),\n",
    "                                 cpms[\"Capacitor Finger Width\"],\n",
    "                                 cpms[\"Capacitor Finger Space\"],\n",
    "                                 cpms[\"Capacitor Finger Length\"],\n",
    "                                 cpms[\"Capacitor Finger Space\"], #Capacitor gap\n",
    "                                 cap_padding,\n",
    "                                 cap_side_gap,\n",
    "                                 cpms[\"Capacitor Finger Number\"],\n",
    "                                 'same_N_right',\n",
    "                                 trans_in = klayout.db.Trans(3, False, 0, 0))\n",
    "cap_R.place( cell, layer_photo )\n",
    "#Connect Resonator to start of Right Capacitor\n",
    "CPW2CPW( res_end, cap_R.cpw_params, res_end.end, cap_R.start ).place( cell, layer_photo )\n",
    "\n",
    "#Right contact pad\n",
    "pad_R = CPW( cpms[\"Launch Pad Width\"]*1.2, cpms[\"Launch Pad Gap\"]*1.2,\n",
    "             cap_R.end + DPoint(cpms[\"Launch to Capacitor\"],0),\n",
    "             DPoint(CHIP.dx, CHIP.dy/2) )\n",
    "pad_R.place( cell, layer_photo )\n",
    "#Connect Capacitor to Right contact pad\n",
    "CPW2CPW( cap_R.cpw_params, pad_R, cap_R.end, pad_R.start ).place( cell, layer_photo )\n",
    "\n",
    "layout.write(r'Example2_eric.gds')"
   ]
  },
  {
   "cell_type": "markdown",
   "metadata": {},
   "source": [
    "## COMSOL simulation\n",
    "\n",
    "The code above generates the geometry that is to be passed onto a fresh simulation built from scratch."
   ]
  },
  {
   "cell_type": "code",
   "execution_count": 9,
   "metadata": {},
   "outputs": [],
   "source": [
    "from ClassLib.COMSOL import COMSOL_Model\n",
    "\n",
    "chip_len = CHIP.dx * 1e-9\n",
    "chip_wid = CHIP.dy * 1e-9\n",
    "chip_thickness = 0.5e-3\n",
    "\n",
    "cmdl = COMSOL_Model('supercond',24)\n",
    "cmdl.initialize_model(chip_len, chip_wid, chip_thickness)"
   ]
  },
  {
   "cell_type": "code",
   "execution_count": 10,
   "metadata": {},
   "outputs": [],
   "source": [
    "cmdl.add_metallic_Klayout(layout, layer_photo)\n",
    "cmdl.create_port_on_CPW(pad_L,True)\n",
    "cmdl.create_port_on_CPW(pad_R,False)"
   ]
  },
  {
   "cell_type": "code",
   "execution_count": 11,
   "metadata": {},
   "outputs": [],
   "source": [
    "cmdl.register_fine_structure(res_mean.start*1e-9 + DPoint(1e-6,0), 1.2e-6, 10e-6)\n",
    "cmdl.build_geom_mater_elec_mesh()\n",
    "cmdl.save(\"Test_1.mph\")"
   ]
  },
  {
   "cell_type": "markdown",
   "metadata": {},
   "source": [
    "Calculate the capacitance matrix and display the metallic conductors alongside their corresponding indices in the capacitance matrix."
   ]
  },
  {
   "cell_type": "code",
   "execution_count": null,
   "metadata": {},
   "outputs": [],
   "source": [
    "cmdl.run_simulation_capMat()"
   ]
  },
  {
   "cell_type": "code",
   "execution_count": null,
   "metadata": {},
   "outputs": [],
   "source": [
    "cmdl.display_conductor_indices()"
   ]
  },
  {
   "cell_type": "markdown",
   "metadata": {},
   "source": [
    "Calculate s-parameters and plot them"
   ]
  },
  {
   "cell_type": "code",
   "execution_count": null,
   "metadata": {},
   "outputs": [],
   "source": [
    "#cmdl.set_freq_range(7.212e9,7.215e9,20)\n",
    "#cmdl.set_freq_range(7.210e9,7.214e9,30)\n",
    "cmdl.set_freq_range(7.210e9,7.214e9,3)\n",
    "cmdl.run_simulation_sparams()"
   ]
  },
  {
   "cell_type": "code",
   "execution_count": null,
   "metadata": {},
   "outputs": [],
   "source": [
    "import matplotlib.pyplot as plt\n",
    "\n",
    "s_param_vals = cmdl.run_simulation_sparams(False)\n",
    "plt.plot(s_param_vals[0]/1e9, s_param_vals[1],'bo-',label='S11')\n",
    "plt.plot(s_param_vals[0]/1e9, s_param_vals[2],'ro-',label='S21')\n",
    "plt.grid(True, which=\"both\")\n",
    "plt.legend(loc='center left', bbox_to_anchor=(1, 0.5))\n",
    "plt.xlabel('f(GHz)')\n",
    "plt.ylabel('S-parameters')\n",
    "plt.show()"
   ]
  },
  {
   "cell_type": "code",
   "execution_count": null,
   "metadata": {},
   "outputs": [],
   "source": []
  }
 ],
 "metadata": {
  "kernelspec": {
   "display_name": "Python 3",
   "language": "python",
   "name": "python3"
  },
  "language_info": {
   "codemirror_mode": {
    "name": "ipython",
    "version": 3
   },
   "file_extension": ".py",
   "mimetype": "text/x-python",
   "name": "python",
   "nbconvert_exporter": "python",
   "pygments_lexer": "ipython3",
   "version": "3.7.4"
  }
 },
 "nbformat": 4,
 "nbformat_minor": 2
}
